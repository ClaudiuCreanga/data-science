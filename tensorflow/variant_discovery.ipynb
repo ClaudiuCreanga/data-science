{
 "cells": [
  {
   "cell_type": "code",
   "execution_count": null,
   "metadata": {
    "collapsed": true
   },
   "outputs": [
    {
     "data": {
      "text/plain": [
       "{'A': 0, 'C': 1, 'G': 2, 'T': 3}"
      ]
     },
     "execution_count": 4,
     "metadata": {},
     "output_type": "execute_result"
    }
   ],
   "source": [
    "import pandas as pd\n",
    "import numpy as np\n",
    "import tensorflow as tf\n"
   ]
  },
  {
   "cell_type": "code",
   "execution_count": 4,
   "metadata": {
    "collapsed": false
   },
   "outputs": [
    {
     "data": {
      "text/plain": [
       "{'A': 0, 'C': 1, 'G': 2, 'T': 3}"
      ]
     },
     "execution_count": 4,
     "metadata": {},
     "output_type": "execute_result"
    }
   ],
   "source": [
    "bases = dict(zip(\"ACGT\", [0,1,2,3]))\n",
    "bases\n"
   ]
  },
  {
   "cell_type": "code",
   "execution_count": null,
   "metadata": {},
   "outputs": [],
   "source": [
    "# [0,0,0,0,0,0,0,0] first 4 with bases, then if it is hetero\n",
    "# homo, non-variant or complex variant\n",
    "def create_tensors(variants, high_confidence_region):\n",
    "    tensor = dict(zip([0,0,0,0,0,0,0,0],\n",
    "            [\"A\",\"C\",\"G\",\"T\",\"het\", \"homo\", \"non_variant\", \"complex_variatn\"]))\n",
    "    \n",
    "    # read the variants\n",
    "    with open(variants) as variants:\n",
    "        for row in variants:\n",
    "            if row[3] == 0:\n",
    "                tensor[\"het\"] = 1\n",
    "                tensor[row[1][0]] = 0.5\n",
    "                tensor[row[2][0]] = 0.5\n",
    "            else:\n",
    "                tensor[\"homo\"] = 1\n",
    "                tensor[row[2][0]] = 1\n",
    "            \n",
    "            "
   ]
  }
 ],
 "metadata": {
  "kernelspec": {
   "display_name": "Python 2",
   "language": "python",
   "name": "python2"
  },
  "language_info": {
   "codemirror_mode": {
    "name": "ipython",
    "version": 2
   },
   "file_extension": ".py",
   "mimetype": "text/x-python",
   "name": "python",
   "nbconvert_exporter": "python",
   "pygments_lexer": "ipython2",
   "version": "2.7.6"
  }
 },
 "nbformat": 4,
 "nbformat_minor": 0
}
