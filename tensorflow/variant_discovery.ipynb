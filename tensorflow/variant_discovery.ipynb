{
 "cells": [
  {
   "cell_type": "code",
   "execution_count": 1,
   "metadata": {
    "collapsed": true
   },
   "outputs": [],
   "source": [
    "import pandas as pd\n",
    "import numpy as np\n",
    "import tensorflow as tf\n",
    "import intervaltree\n"
   ]
  },
  {
   "cell_type": "code",
   "execution_count": 2,
   "metadata": {
    "collapsed": false
   },
   "outputs": [
    {
     "data": {
      "text/plain": [
       "{'A': 0, 'C': 1, 'G': 2, 'T': 3}"
      ]
     },
     "execution_count": 2,
     "metadata": {},
     "output_type": "execute_result"
    }
   ],
   "source": [
    "bases = dict(zip(\"ACGT\", [0,1,2,3]))\n",
    "bases\n"
   ]
  },
  {
   "cell_type": "code",
   "execution_count": 3,
   "metadata": {
    "collapsed": false
   },
   "outputs": [],
   "source": [
    "def get_confidence_regions(file):\n",
    "    confidence_regions = intervaltree.IntervalTree()\n",
    "    with open(file) as f:\n",
    "        for row in f:\n",
    "            confidence_regions.addi(row[1], row[2])\n",
    "            \n",
    "    return confidence_regions\n"
   ]
  },
  {
   "cell_type": "code",
   "execution_count": null,
   "metadata": {},
   "outputs": [],
   "source": [
    "# [0,0,0,0,0,0,0,0] first 4 with bases, then if it is hetero\n",
    "# homo, non-variant or complex variant\n",
    "def create_tensors(variants, high_confidence_region, aln_tensor):\n",
    "    \n",
    "    confidence_regions = get_confidence_regions(high_confidence_region)\n",
    "    Ys = {}\n",
    "    \n",
    "    # read the variants\n",
    "    with open(variants) as variants:\n",
    "        for row in variants:\n",
    "            row = row.strip().split()\n",
    "            tensor = dict(zip([0,0,0,0,0,0,0,0],\n",
    "            [\"A\",\"C\",\"G\",\"T\",\"het\", \"homo\", \"non_variant\", \"complex_variant\"]))\n",
    "            \n",
    "            position = int(row[0])\n",
    "            # not in confidence regions\n",
    "            if len(confidence_regions.search(position)) == 0:\n",
    "                continue\n",
    "            \n",
    "            # not a simple SNP\n",
    "            elif len(row[1]) > 1 or len(row[2]) > 1:\n",
    "                tensor[\"complex_variant\"] = 1\n",
    "                \n",
    "            # hetero\n",
    "            elif row[3] == 0:\n",
    "                tensor[\"het\"] = 1\n",
    "                tensor[row[1][0]] = 0.5\n",
    "                tensor[row[2][0]] = 0.5\n",
    "                \n",
    "            # mono\n",
    "            else:\n",
    "                tensor[\"homo\"] = 1\n",
    "                tensor[row[2][0]] = 1\n",
    "            \n",
    "            Ys[position] = tensor.values()\n",
    "        \n",
    "    Y_positions = sorted(Ys.keys())\n",
    "    \n",
    "    for index, item in enumerate(Y_positions):\n",
    "        previous_item = Y_positions[index - 1]\n",
    "        if abs(item - previous_item) < 12:\n",
    "            Ys[item] = [0,0,0,0,0,0,0,1]\n",
    "            Ys[previous_item] = [0,0,0,0,0,0,0,1]\n",
    "            \n",
    "    with open(aln_tensor) as file: \n",
    "        for row in file:\n",
    "            row = row.strip().split()\n",
    "            position = int(row[0])\n",
    "            ref\n",
    "            \n",
    "            # not in confidence regions\n",
    "            if len(confidence_regions.search(position)) == 0:\n",
    "                continue\n",
    "\n",
    "                \n",
    "            \n",
    "            "
   ]
  }
 ],
 "metadata": {
  "kernelspec": {
   "display_name": "Python 2",
   "language": "python",
   "name": "python2"
  },
  "language_info": {
   "codemirror_mode": {
    "name": "ipython",
    "version": 2
   },
   "file_extension": ".py",
   "mimetype": "text/x-python",
   "name": "python",
   "nbconvert_exporter": "python",
   "pygments_lexer": "ipython2",
   "version": "2.7.6"
  }
 },
 "nbformat": 4,
 "nbformat_minor": 0
}
