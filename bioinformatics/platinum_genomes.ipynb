{
 "cells": [
  {
   "cell_type": "code",
   "execution_count": 2,
   "metadata": {
    "collapsed": true
   },
   "outputs": [],
   "source": [
    "import vcf\n"
   ]
  },
  {
   "cell_type": "code",
   "execution_count": 3,
   "metadata": {},
   "outputs": [],
   "source": [
    "vcf_reader = vcf.Reader(open(\"data/pg2017/hg19/small_variants/NA12878/NA12878.vcf\", \"r\"))"
   ]
  },
  {
   "cell_type": "code",
   "execution_count": 9,
   "metadata": {},
   "outputs": [],
   "source": [
    "variations = []\n",
    "for record in vcf_reader:\n",
    "    variations.append([record.REF, record.ALT])"
   ]
  },
  {
   "cell_type": "code",
   "execution_count": 10,
   "metadata": {},
   "outputs": [
    {
     "data": {
      "text/plain": [
       "[['C', [CAG]],\n ['C', [CT]],\n ['T', [C]],\n ['G', [C]],\n ['C', [T]],\n ['A', [AATCTTTG]],\n ['A', [ACAGGTG]],\n ['A', [G]],\n ['G', [T]],\n ['T', [A]],\n ['A', [G]],\n ['A', [G]],\n ['T', [TG]],\n ['T', [A]],\n ['G', [T]],\n ['AG', [A]],\n ['A', [ATGTTT]],\n ['A', [AT]],\n ['A', [G]],\n ['C', [T]],\n ['A', [G]],\n ['G', [A]],\n ['T', [C]],\n ['C', [A]],\n ['A', [T]],\n ['T', [G]],\n ['T', [C]],\n ['A', [G]],\n ['C', [G]],\n ['A', [G]]]"
      ]
     },
     "execution_count": 10,
     "metadata": {},
     "output_type": "execute_result"
    }
   ],
   "source": [
    "variations[:30]"
   ]
  },
  {
   "cell_type": "code",
   "execution_count": 11,
   "metadata": {},
   "outputs": [
    {
     "data": {
      "text/plain": [
       "4034787"
      ]
     },
     "execution_count": 11,
     "metadata": {},
     "output_type": "execute_result"
    }
   ],
   "source": [
    "len(variations)"
   ]
  },
  {
   "cell_type": "code",
   "execution_count": null,
   "metadata": {},
   "outputs": [],
   "source": []
  }
 ],
 "metadata": {
  "kernelspec": {
   "display_name": "Python 2",
   "language": "python",
   "name": "python2"
  },
  "language_info": {
   "codemirror_mode": {
    "name": "ipython",
    "version": 2
   },
   "file_extension": ".py",
   "mimetype": "text/x-python",
   "name": "python",
   "nbconvert_exporter": "python",
   "pygments_lexer": "ipython2",
   "version": "2.7.6"
  }
 },
 "nbformat": 4,
 "nbformat_minor": 0
}
