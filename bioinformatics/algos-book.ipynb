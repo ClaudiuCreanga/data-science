{
 "cells": [
  {
   "cell_type": "code",
   "execution_count": 1,
   "metadata": {
    "collapsed": true,
    "pycharm": {
     "is_executing": false
    }
   },
   "outputs": [],
   "source": [
    "from Bio import SeqIO\n"
   ]
  },
  {
   "cell_type": "code",
   "execution_count": 5,
   "outputs": [],
   "source": [
    "def search_all_occ(seq, pattern):\n",
    "    res = []\n",
    "    n = len(pattern)\n",
    "    for i in range(len(seq) - n + 1):\n",
    "        if seq[i:i+n] == pattern:\n",
    "            res.append(i)\n",
    "    return res\n"
   ],
   "metadata": {
    "collapsed": false,
    "pycharm": {
     "name": "#%%\n",
     "is_executing": false
    }
   }
  },
  {
   "cell_type": "code",
   "execution_count": 6,
   "outputs": [
    {
     "name": "stdout",
     "text": [
      "[3]\n"
     ],
     "output_type": "stream"
    }
   ],
   "source": [
    "seqDNA = \"ATAGAATAGATAATAGTC\"\n",
    "print( search_all_occ(seqDNA, \"GAAT\") )"
   ],
   "metadata": {
    "collapsed": false,
    "pycharm": {
     "name": "#%%\n",
     "is_executing": false
    }
   }
  },
  {
   "cell_type": "code",
   "execution_count": 1,
   "outputs": [],
   "source": [
    "class BoyerMoore:\n",
    "    \n",
    "    def __init__(self, alphabet, pattern):\n",
    "        self.alphabet = alphabet\n",
    "        self.pattern = pattern\n",
    "        self.n = len(pattern)\n",
    "        self.occ = {}\n",
    "        self.preprocess()\n",
    "        \n",
    "    def preprocess(self):\n",
    "        self.process_bcr()\n",
    "        self.process_gsr()\n",
    "    \n",
    "    def process_bcr(self):\n",
    "        for symb in self.alphabet:\n",
    "            self.occ[symb] = -1\n",
    "        for index, item in enumerate(self.pattern):\n",
    "            self.occ[item] = index\n",
    "    \n",
    "    def process_gsr(self):\n",
    "        self.f = [0] * (self.n + 1)\n",
    "        self.s = [0] * (self.n + 1)\n",
    "        i = self.n\n",
    "        j = self.n + 1\n",
    "        self.f[i] = j\n",
    "        while i > 0:\n",
    "            while j <= self.n and self.pattern[i-1] != self.pattern[j - 1]:\n",
    "                if self.s[j] == 0:\n",
    "                    self.s[j] = j-1\n",
    "                j = self.f[j]\n",
    "            i -= 1\n",
    "            j -= 1\n",
    "            self.f[i] = j\n",
    "        j = self.f[0]\n",
    "        for i in range(self.n):\n",
    "            if self.s[i] == 0:\n",
    "                self.s[i] = j\n",
    "            if i == j:\n",
    "                j = self.f[j]\n",
    "    \n",
    "    def search_pattern(self, text):\n",
    "        res = []\n",
    "        i = 0\n",
    "        while i <= len(text)  - self.n:\n",
    "            j = self.n - 1\n",
    "            while j >= 0 and self.pattern[j] == text[j+1]:\n",
    "                j -= 1\n",
    "            if j < 0:\n",
    "                res.append(i)\n",
    "                i += self.s[0]\n",
    "            else:\n",
    "                c = text[j+i]\n",
    "                i += max(self.s[j+1], j-self.occ[c])\n",
    "        return res\n",
    "    "
   ],
   "metadata": {
    "collapsed": false,
    "pycharm": {
     "name": "#%%\n",
     "is_executing": false
    }
   }
  },
  {
   "cell_type": "code",
   "execution_count": 2,
   "outputs": [],
   "source": [
    "def test():\n",
    "    bm = BoyerMoore(\"ACTG\", \"ACCA\")\n",
    "    return bm.search_pattern(\"ATAGAACCAATGAACCATGATGAACCATGGATACCCAACCACC\")\n"
   ],
   "metadata": {
    "collapsed": false,
    "pycharm": {
     "name": "#%%\n",
     "is_executing": false
    }
   }
  },
  {
   "cell_type": "code",
   "execution_count": 3,
   "outputs": [
    {
     "name": "stdout",
     "text": [
      "[]\n"
     ],
     "output_type": "stream"
    }
   ],
   "source": [
    "print(test())"
   ],
   "metadata": {
    "collapsed": false,
    "pycharm": {
     "name": "#%%\n",
     "is_executing": false
    }
   }
  },
  {
   "cell_type": "code",
   "execution_count": null,
   "outputs": [],
   "source": [
    "\n"
   ],
   "metadata": {
    "collapsed": false,
    "pycharm": {
     "name": "#%%\n"
    }
   }
  }
 ],
 "metadata": {
  "kernelspec": {
   "display_name": "Python 3",
   "language": "python",
   "name": "python3"
  },
  "language_info": {
   "codemirror_mode": {
    "name": "ipython",
    "version": 2
   },
   "file_extension": ".py",
   "mimetype": "text/x-python",
   "name": "python",
   "nbconvert_exporter": "python",
   "pygments_lexer": "ipython2",
   "version": "2.7.6"
  },
  "pycharm": {
   "stem_cell": {
    "cell_type": "raw",
    "source": [],
    "metadata": {
     "collapsed": false
    }
   }
  }
 },
 "nbformat": 4,
 "nbformat_minor": 0
}