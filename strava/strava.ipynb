{
 "cells": [
  {
   "cell_type": "code",
   "execution_count": 1,
   "metadata": {
    "collapsed": true
   },
   "outputs": [],
   "source": [
    "# generate the list of dates when you didn't have strava installed yet\n",
    "from datetime import date, datetime, timedelta\n"
   ]
  },
  {
   "cell_type": "code",
   "execution_count": 2,
   "metadata": {},
   "outputs": [],
   "source": [
    "def perdelta(start, end):\n",
    "    curr = start\n",
    "    weekday = 1\n",
    "    while curr < end:\n",
    "        if weekday == 6:\n",
    "            weekday += 1\n",
    "            curr += timedelta(days=1)\n",
    "            continue\n",
    "        if weekday == 7:\n",
    "            weekday = 1\n",
    "            curr += timedelta(days=1)\n",
    "            continue\n",
    "        yield curr\n",
    "        curr += timedelta(days=1)\n",
    "        weekday += 1\n"
   ]
  },
  {
   "cell_type": "code",
   "execution_count": 19,
   "metadata": {},
   "outputs": [
    {
     "data": {
      "text/plain": [
       "[datetime.date(2018, 2, 5),\n datetime.date(2018, 2, 6),\n datetime.date(2018, 2, 7),\n datetime.date(2018, 2, 8),\n datetime.date(2018, 2, 9),\n datetime.date(2018, 2, 12),\n datetime.date(2018, 2, 13),\n datetime.date(2018, 2, 14),\n datetime.date(2018, 2, 15),\n datetime.date(2018, 2, 16),\n datetime.date(2018, 2, 19),\n datetime.date(2018, 2, 20),\n datetime.date(2018, 2, 21),\n datetime.date(2018, 2, 22),\n datetime.date(2018, 2, 23),\n datetime.date(2018, 2, 26),\n datetime.date(2018, 2, 27),\n datetime.date(2018, 2, 28),\n datetime.date(2018, 3, 1),\n datetime.date(2018, 3, 2),\n datetime.date(2018, 3, 5),\n datetime.date(2018, 3, 6),\n datetime.date(2018, 3, 7),\n datetime.date(2018, 3, 8),\n datetime.date(2018, 3, 9),\n datetime.date(2018, 3, 12),\n datetime.date(2018, 3, 13),\n datetime.date(2018, 3, 14),\n datetime.date(2018, 3, 15),\n datetime.date(2018, 3, 16),\n datetime.date(2018, 3, 19),\n datetime.date(2018, 3, 20),\n datetime.date(2018, 3, 21),\n datetime.date(2018, 3, 22),\n datetime.date(2018, 3, 23),\n datetime.date(2018, 3, 26),\n datetime.date(2018, 3, 27),\n datetime.date(2018, 3, 28),\n datetime.date(2018, 3, 29),\n datetime.date(2018, 3, 30),\n datetime.date(2018, 4, 2),\n datetime.date(2018, 4, 3),\n datetime.date(2018, 4, 4),\n datetime.date(2018, 4, 5),\n datetime.date(2018, 4, 6),\n datetime.date(2018, 4, 9),\n datetime.date(2018, 4, 10),\n datetime.date(2018, 4, 11),\n datetime.date(2018, 4, 12),\n datetime.date(2018, 4, 13)]"
      ]
     },
     "execution_count": 19,
     "metadata": {},
     "output_type": "execute_result"
    }
   ],
   "source": [
    "dates = []\n",
    "for result in perdelta(date(2018, 2, 5), date(2018, 4, 15)):\n",
    "    dates.append(result)\n",
    "dates"
   ]
  },
  {
   "cell_type": "code",
   "execution_count": 20,
   "metadata": {},
   "outputs": [],
   "source": [
    "f = open(\"strava/Morning_Ride.gpx\",'r')\n",
    "filedata = f.read()"
   ]
  },
  {
   "cell_type": "code",
   "execution_count": 26,
   "metadata": {},
   "outputs": [],
   "source": [
    "for date in dates:\n",
    "    newdata = filedata.replace(\"2018-04-19\",str(date))\n",
    "    n = open(\"strava/generated/\" + str(date) + \".gpx\",'w+')\n",
    "    n.write(newdata)\n",
    "    n.close()"
   ]
  },
  {
   "cell_type": "code",
   "execution_count": 23,
   "metadata": {},
   "outputs": [
    {
     "data": {
      "text/plain": [
       "'2018-02-05'"
      ]
     },
     "execution_count": 23,
     "metadata": {},
     "output_type": "execute_result"
    }
   ],
   "source": [
    "str(dates[0])"
   ]
  },
  {
   "cell_type": "code",
   "execution_count": 27,
   "metadata": {},
   "outputs": [
    {
     "data": {
      "text/plain": [
       "datetime.date(2018, 3, 9)"
      ]
     },
     "execution_count": 27,
     "metadata": {},
     "output_type": "execute_result"
    }
   ],
   "source": [
    "dates[24]"
   ]
  },
  {
   "cell_type": "code",
   "execution_count": null,
   "metadata": {},
   "outputs": [],
   "source": []
  }
 ],
 "metadata": {
  "kernelspec": {
   "display_name": "Python 2",
   "language": "python",
   "name": "python2"
  },
  "language_info": {
   "codemirror_mode": {
    "name": "ipython",
    "version": 2
   },
   "file_extension": ".py",
   "mimetype": "text/x-python",
   "name": "python",
   "nbconvert_exporter": "python",
   "pygments_lexer": "ipython2",
   "version": "2.7.6"
  }
 },
 "nbformat": 4,
 "nbformat_minor": 0
}
