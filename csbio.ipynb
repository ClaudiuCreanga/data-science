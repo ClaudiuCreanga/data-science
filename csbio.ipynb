{
 "cells": [
  {
   "cell_type": "code",
   "execution_count": 43,
   "metadata": {
    "collapsed": true,
    "pycharm": {
     "is_executing": false
    }
   },
   "outputs": [],
   "source": [
    "import pandas as pd\n",
    "import numpy as np\n",
    "from collections import defaultdict"
   ]
  },
  {
   "cell_type": "code",
   "execution_count": 3,
   "outputs": [],
   "source": [
    "from Bio import SeqIO\n"
   ],
   "metadata": {
    "collapsed": false,
    "pycharm": {
     "name": "#%%\n",
     "is_executing": false
    }
   }
  },
  {
   "cell_type": "code",
   "execution_count": 10,
   "outputs": [
    {
     "name": "stdout",
     "text": [
      "I\n"
     ],
     "output_type": "stream"
    }
   ],
   "source": [
    "i = 0\n",
    "for record in SeqIO.parse(\"./data/Vibrio_cholerae.fa\", \"fasta\"):\n",
    "    print(record.id)"
   ],
   "metadata": {
    "collapsed": false,
    "pycharm": {
     "name": "#%%\n",
     "is_executing": false
    }
   }
  },
  {
   "cell_type": "code",
   "execution_count": 11,
   "outputs": [],
   "source": [
    "records = list(SeqIO.parse(\"./data/Vibrio_cholerae.fa\", \"fasta\"))\n"
   ],
   "metadata": {
    "collapsed": false,
    "pycharm": {
     "name": "#%%\n",
     "is_executing": false
    }
   }
  },
  {
   "cell_type": "code",
   "execution_count": 15,
   "outputs": [],
   "source": [
    "genome = records[0]"
   ],
   "metadata": {
    "collapsed": false,
    "pycharm": {
     "name": "#%%\n",
     "is_executing": false
    }
   }
  },
  {
   "cell_type": "code",
   "execution_count": 25,
   "outputs": [],
   "source": [
    "def kmer_frequency(k, seq):\n",
    "    kmerCount = {}\n",
    "    for i in range(len(seq) - k + 1):\n",
    "        kmer = str(seq[i:i+k].seq)\n",
    "        kmerCount[kmer] = kmerCount.get(kmer, 0) + 1\n",
    "        \n",
    "    return kmerCount"
   ],
   "metadata": {
    "collapsed": false,
    "pycharm": {
     "name": "#%%\n",
     "is_executing": false
    }
   }
  },
  {
   "cell_type": "code",
   "execution_count": 27,
   "outputs": [
    {
     "data": {
      "text/plain": "{'AGG': 3,\n 'GGG': 1,\n 'GGT': 1,\n 'GTC': 1,\n 'TCA': 2,\n 'CAT': 1,\n 'ATT': 3,\n 'TTA': 4,\n 'TAA': 4,\n 'AAA': 5,\n 'AAT': 2,\n 'ATA': 7,\n 'TAT': 7,\n 'AAG': 3,\n 'AGA': 4,\n 'GAT': 6,\n 'ATC': 5,\n 'TCT': 4,\n 'CTA': 3,\n 'TAG': 2,\n 'GAG': 2,\n 'CTT': 2,\n 'TTT': 4,\n 'TAC': 1,\n 'ACT': 1,\n 'GGA': 3,\n 'AGC': 1,\n 'GCA': 1,\n 'CAG': 1,\n 'TTG': 1,\n 'TGT': 1,\n 'GTG': 2,\n 'TGG': 1,\n 'AGT': 1,\n 'TGA': 2,\n 'GAA': 1,\n 'ATG': 1,\n 'CAA': 2,\n 'AAC': 1,\n 'ACA': 1}"
     },
     "metadata": {},
     "output_type": "execute_result",
     "execution_count": 27
    }
   ],
   "source": [
    "kmers_3 = kmer_frequency(3, genome[:100])\n",
    "kmers_3"
   ],
   "metadata": {
    "collapsed": false,
    "pycharm": {
     "name": "#%%\n",
     "is_executing": false
    }
   }
  },
  {
   "cell_type": "code",
   "execution_count": 35,
   "outputs": [
    {
     "data": {
      "text/plain": "[('ATA', 7),\n ('TAT', 7),\n ('GAT', 6),\n ('AAA', 5),\n ('ATC', 5),\n ('TTA', 4),\n ('TAA', 4),\n ('AGA', 4),\n ('TCT', 4),\n ('TTT', 4),\n ('AGG', 3),\n ('ATT', 3),\n ('AAG', 3),\n ('CTA', 3),\n ('GGA', 3),\n ('TCA', 2),\n ('AAT', 2),\n ('TAG', 2),\n ('GAG', 2),\n ('CTT', 2),\n ('GTG', 2),\n ('TGA', 2),\n ('CAA', 2),\n ('GGG', 1),\n ('GGT', 1),\n ('GTC', 1),\n ('CAT', 1),\n ('TAC', 1),\n ('ACT', 1),\n ('AGC', 1),\n ('GCA', 1),\n ('CAG', 1),\n ('TTG', 1),\n ('TGT', 1),\n ('TGG', 1),\n ('AGT', 1),\n ('GAA', 1),\n ('ATG', 1),\n ('AAC', 1),\n ('ACA', 1)]"
     },
     "metadata": {},
     "output_type": "execute_result",
     "execution_count": 35
    }
   ],
   "source": [
    "# sort dict by freq of kmer\n",
    "sorted(kmers_3.items(), key=lambda x: x[1], reverse=True)"
   ],
   "metadata": {
    "collapsed": false,
    "pycharm": {
     "name": "#%%\n",
     "is_executing": false
    }
   }
  },
  {
   "cell_type": "code",
   "execution_count": 41,
   "outputs": [],
   "source": [
    "def kmerPositions(k, seq):\n",
    "    kmerPosition = defaultdict(list)\n",
    "    for i in range(1, len(seq) - k + 1):\n",
    "        kmerPosition[str(seq[i:i+k].seq)].append(i) \n",
    "    return kmerPosition\n",
    "\n"
   ],
   "metadata": {
    "collapsed": false,
    "pycharm": {
     "name": "#%%\n",
     "is_executing": false
    }
   }
  },
  {
   "cell_type": "code",
   "execution_count": 44,
   "outputs": [
    {
     "data": {
      "text/plain": "defaultdict(list,\n            {'GGG': [1],\n             'GGT': [2],\n             'GTC': [3],\n             'TCA': [4, 93],\n             'CAT': [5],\n             'ATT': [6, 43, 55],\n             'TTA': [7, 41, 44, 56],\n             'TAA': [8, 18, 57, 79],\n             'AAA': [9, 19, 85, 86, 87],\n             'AAT': [10, 88],\n             'ATA': [11, 13, 15, 17, 27, 29, 78],\n             'TAT': [12, 14, 16, 26, 28, 42, 54],\n             'AAG': [20, 58, 80],\n             'AGA': [21, 31, 33, 46],\n             'GAT': [22, 34, 47, 67, 77, 91],\n             'ATC': [23, 35, 48, 68, 92],\n             'TCT': [24, 36, 49, 69],\n             'CTA': [25, 50, 53],\n             'TAG': [30, 45],\n             'GAG': [32, 61],\n             'CTT': [37, 70],\n             'TTT': [38, 39, 40, 71],\n             'TAC': [51],\n             'ACT': [52],\n             'AGG': [59, 65],\n             'GGA': [60, 66, 76],\n             'AGC': [62],\n             'GCA': [63],\n             'CAG': [64],\n             'TTG': [72],\n             'TGT': [73],\n             'GTG': [74, 82],\n             'TGG': [75],\n             'AGT': [81],\n             'TGA': [83, 90],\n             'GAA': [84],\n             'ATG': [89],\n             'CAA': [94, 97],\n             'AAC': [95],\n             'ACA': [96]})"
     },
     "metadata": {},
     "output_type": "execute_result",
     "execution_count": 44
    }
   ],
   "source": [
    "kmerPositions(3, genome[:100])"
   ],
   "metadata": {
    "collapsed": false,
    "pycharm": {
     "name": "#%%\n",
     "is_executing": false
    }
   }
  },
  {
   "cell_type": "code",
   "execution_count": 40,
   "outputs": [
    {
     "data": {
      "text/plain": "[4, 4]"
     },
     "metadata": {},
     "output_type": "execute_result",
     "execution_count": 40
    }
   ],
   "source": [
    "[4] + [4]"
   ],
   "metadata": {
    "collapsed": false,
    "pycharm": {
     "name": "#%%\n",
     "is_executing": false
    }
   }
  },
  {
   "cell_type": "code",
   "execution_count": null,
   "outputs": [],
   "source": [
    "\n"
   ],
   "metadata": {
    "collapsed": false,
    "pycharm": {
     "name": "#%%\n"
    }
   }
  }
 ],
 "metadata": {
  "kernelspec": {
   "display_name": "Python 3",
   "language": "python",
   "name": "python3"
  },
  "language_info": {
   "codemirror_mode": {
    "name": "ipython",
    "version": 2
   },
   "file_extension": ".py",
   "mimetype": "text/x-python",
   "name": "python",
   "nbconvert_exporter": "python",
   "pygments_lexer": "ipython2",
   "version": "2.7.6"
  },
  "pycharm": {
   "stem_cell": {
    "cell_type": "raw",
    "source": [],
    "metadata": {
     "collapsed": false
    }
   }
  }
 },
 "nbformat": 4,
 "nbformat_minor": 0
}