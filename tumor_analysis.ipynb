{
 "cells": [
  {
   "cell_type": "code",
   "execution_count": 42,
   "metadata": {},
   "outputs": [],
   "source": [
    "import pandas as pd\n",
    "import numpy as np"
   ]
  },
  {
   "cell_type": "code",
   "execution_count": 6,
   "metadata": {},
   "outputs": [],
   "source": [
    "df = pd.read_csv(\"./data/illumina/tumour_microenvironment.csv\")"
   ]
  },
  {
   "cell_type": "code",
   "execution_count": 7,
   "metadata": {},
   "outputs": [
    {
     "data": {
      "text/html": [
       "<div>\n",
       "<style scoped>\n",
       "    .dataframe tbody tr th:only-of-type {\n",
       "        vertical-align: middle;\n",
       "    }\n",
       "\n",
       "    .dataframe tbody tr th {\n",
       "        vertical-align: top;\n",
       "    }\n",
       "\n",
       "    .dataframe thead th {\n",
       "        text-align: right;\n",
       "    }\n",
       "</style>\n",
       "<table border=\"1\" class=\"dataframe\">\n",
       "  <thead>\n",
       "    <tr style=\"text-align: right;\">\n",
       "      <th></th>\n",
       "      <th>B cell</th>\n",
       "      <th>Cancer associated fibroblast</th>\n",
       "      <th>T cell CD4+</th>\n",
       "      <th>T cell CD8+</th>\n",
       "      <th>Endothelial cell</th>\n",
       "      <th>Macrophage</th>\n",
       "      <th>NK cell</th>\n",
       "      <th>uncharacterized cell</th>\n",
       "      <th>RNA_ID</th>\n",
       "      <th>DNA_ID</th>\n",
       "      <th>PBCP_ID</th>\n",
       "      <th>RIN</th>\n",
       "      <th>DV200</th>\n",
       "      <th>barcode</th>\n",
       "      <th>purity</th>\n",
       "      <th>comment</th>\n",
       "      <th>commentSent</th>\n",
       "      <th>Tumour_ID</th>\n",
       "      <th>TMB</th>\n",
       "    </tr>\n",
       "  </thead>\n",
       "  <tbody>\n",
       "    <tr>\n",
       "      <th>1</th>\n",
       "      <td>0.035376</td>\n",
       "      <td>0.012781</td>\n",
       "      <td>0.193024</td>\n",
       "      <td>0.116173</td>\n",
       "      <td>0.160463</td>\n",
       "      <td>0.006960</td>\n",
       "      <td>2.528052e-09</td>\n",
       "      <td>0.475224</td>\n",
       "      <td>LP5000548-RNA_B01</td>\n",
       "      <td>LP2101421-DNA_A01</td>\n",
       "      <td>PBCP_0485_T</td>\n",
       "      <td>6.3</td>\n",
       "      <td>85.57</td>\n",
       "      <td>LP2101482-DNA_A01</td>\n",
       "      <td>7</td>\n",
       "      <td>ERBB2 amp; RB1 loss; FGFR1 loss.</td>\n",
       "      <td>Very low tumour content.</td>\n",
       "      <td>LP2101482-DNA_A01</td>\n",
       "      <td>3.2646</td>\n",
       "    </tr>\n",
       "    <tr>\n",
       "      <th>2</th>\n",
       "      <td>0.040039</td>\n",
       "      <td>0.016395</td>\n",
       "      <td>0.211141</td>\n",
       "      <td>0.126468</td>\n",
       "      <td>0.167064</td>\n",
       "      <td>0.008642</td>\n",
       "      <td>4.106213e-10</td>\n",
       "      <td>0.430251</td>\n",
       "      <td>LP5000567-RNA_A01</td>\n",
       "      <td>LP2101469-DNA_A01</td>\n",
       "      <td>PBCP_0505_T</td>\n",
       "      <td>2.1</td>\n",
       "      <td>70.26</td>\n",
       "      <td>LP2101469-DNA_A01</td>\n",
       "      <td>9</td>\n",
       "      <td>ATM fs LOH. FGFR1 amp; ERBB2 amp; ZNF703 amp; ...</td>\n",
       "      <td>no comments.</td>\n",
       "      <td>LP2101469-DNA_A01</td>\n",
       "      <td>1.8357</td>\n",
       "    </tr>\n",
       "    <tr>\n",
       "      <th>3</th>\n",
       "      <td>0.029758</td>\n",
       "      <td>0.013894</td>\n",
       "      <td>0.184043</td>\n",
       "      <td>0.100640</td>\n",
       "      <td>0.154921</td>\n",
       "      <td>0.007390</td>\n",
       "      <td>3.841171e-10</td>\n",
       "      <td>0.509355</td>\n",
       "      <td>LP5000553-RNA_A01</td>\n",
       "      <td>LP2101436-DNA_A01</td>\n",
       "      <td>PBCP_0496_T</td>\n",
       "      <td>5.8</td>\n",
       "      <td>87.46</td>\n",
       "      <td>LP2101436-DNA_A01</td>\n",
       "      <td>10</td>\n",
       "      <td>PIK3CA Glu545Gly. QC fail; choppy coverage. Re...</td>\n",
       "      <td>Very low tumour content.</td>\n",
       "      <td>LP2101483-DNA_A01</td>\n",
       "      <td>2.0584</td>\n",
       "    </tr>\n",
       "    <tr>\n",
       "      <th>4</th>\n",
       "      <td>0.042825</td>\n",
       "      <td>0.014354</td>\n",
       "      <td>0.203481</td>\n",
       "      <td>0.118565</td>\n",
       "      <td>0.163054</td>\n",
       "      <td>0.008256</td>\n",
       "      <td>5.892552e-10</td>\n",
       "      <td>0.449465</td>\n",
       "      <td>LP5000598-RNA_A01</td>\n",
       "      <td>LP2101579-DNA_A01</td>\n",
       "      <td>PBCP_0550_T</td>\n",
       "      <td>4.5</td>\n",
       "      <td>78.42</td>\n",
       "      <td>LP2101579-DNA_A01</td>\n",
       "      <td>10</td>\n",
       "      <td>ERBB2 amp; BRIP1 amp; MDM2 amp. BRCA signature.</td>\n",
       "      <td>no comments.</td>\n",
       "      <td>LP2101579-DNA_A01</td>\n",
       "      <td>2.2427</td>\n",
       "    </tr>\n",
       "    <tr>\n",
       "      <th>5</th>\n",
       "      <td>0.038290</td>\n",
       "      <td>0.015091</td>\n",
       "      <td>0.197775</td>\n",
       "      <td>0.117460</td>\n",
       "      <td>0.162362</td>\n",
       "      <td>0.007188</td>\n",
       "      <td>1.005272e-10</td>\n",
       "      <td>0.461834</td>\n",
       "      <td>LP5000615-RNA_A01</td>\n",
       "      <td>LP2101613-DNA_A01</td>\n",
       "      <td>PBCP_0569_T</td>\n",
       "      <td>4.9</td>\n",
       "      <td>89.19</td>\n",
       "      <td>LP2101613-DNA_A01</td>\n",
       "      <td>12</td>\n",
       "      <td>PIK3CA Glu545Lys.</td>\n",
       "      <td>no comments.</td>\n",
       "      <td>LP2101613-DNA_A01</td>\n",
       "      <td>1.5650</td>\n",
       "    </tr>\n",
       "  </tbody>\n",
       "</table>\n",
       "</div>"
      ],
      "text/plain": [
       "     B cell  Cancer associated fibroblast  T cell CD4+  T cell CD8+  \\\n",
       "1  0.035376                      0.012781     0.193024     0.116173   \n",
       "2  0.040039                      0.016395     0.211141     0.126468   \n",
       "3  0.029758                      0.013894     0.184043     0.100640   \n",
       "4  0.042825                      0.014354     0.203481     0.118565   \n",
       "5  0.038290                      0.015091     0.197775     0.117460   \n",
       "\n",
       "   Endothelial cell  Macrophage       NK cell  uncharacterized cell  \\\n",
       "1          0.160463    0.006960  2.528052e-09              0.475224   \n",
       "2          0.167064    0.008642  4.106213e-10              0.430251   \n",
       "3          0.154921    0.007390  3.841171e-10              0.509355   \n",
       "4          0.163054    0.008256  5.892552e-10              0.449465   \n",
       "5          0.162362    0.007188  1.005272e-10              0.461834   \n",
       "\n",
       "              RNA_ID             DNA_ID      PBCP_ID  RIN  DV200  \\\n",
       "1  LP5000548-RNA_B01  LP2101421-DNA_A01  PBCP_0485_T  6.3  85.57   \n",
       "2  LP5000567-RNA_A01  LP2101469-DNA_A01  PBCP_0505_T  2.1  70.26   \n",
       "3  LP5000553-RNA_A01  LP2101436-DNA_A01  PBCP_0496_T  5.8  87.46   \n",
       "4  LP5000598-RNA_A01  LP2101579-DNA_A01  PBCP_0550_T  4.5  78.42   \n",
       "5  LP5000615-RNA_A01  LP2101613-DNA_A01  PBCP_0569_T  4.9  89.19   \n",
       "\n",
       "             barcode  purity  \\\n",
       "1  LP2101482-DNA_A01       7   \n",
       "2  LP2101469-DNA_A01       9   \n",
       "3  LP2101436-DNA_A01      10   \n",
       "4  LP2101579-DNA_A01      10   \n",
       "5  LP2101613-DNA_A01      12   \n",
       "\n",
       "                                             comment  \\\n",
       "1                   ERBB2 amp; RB1 loss; FGFR1 loss.   \n",
       "2  ATM fs LOH. FGFR1 amp; ERBB2 amp; ZNF703 amp; ...   \n",
       "3  PIK3CA Glu545Gly. QC fail; choppy coverage. Re...   \n",
       "4    ERBB2 amp; BRIP1 amp; MDM2 amp. BRCA signature.   \n",
       "5                                  PIK3CA Glu545Lys.   \n",
       "\n",
       "                commentSent          Tumour_ID     TMB  \n",
       "1  Very low tumour content.  LP2101482-DNA_A01  3.2646  \n",
       "2              no comments.  LP2101469-DNA_A01  1.8357  \n",
       "3  Very low tumour content.  LP2101483-DNA_A01  2.0584  \n",
       "4              no comments.  LP2101579-DNA_A01  2.2427  \n",
       "5              no comments.  LP2101613-DNA_A01  1.5650  "
      ]
     },
     "execution_count": 7,
     "metadata": {},
     "output_type": "execute_result"
    }
   ],
   "source": [
    "df.head()"
   ]
  },
  {
   "cell_type": "code",
   "execution_count": 14,
   "metadata": {},
   "outputs": [
    {
     "data": {
      "text/plain": [
       "False"
      ]
     },
     "execution_count": 14,
     "metadata": {},
     "output_type": "execute_result"
    }
   ],
   "source": [
    "pd.notnull(np.nan)"
   ]
  },
  {
   "cell_type": "code",
   "execution_count": 15,
   "metadata": {},
   "outputs": [
    {
     "data": {
      "text/plain": [
       "True"
      ]
     },
     "execution_count": 15,
     "metadata": {},
     "output_type": "execute_result"
    }
   ],
   "source": [
    "0.0 == 0"
   ]
  },
  {
   "cell_type": "code",
   "execution_count": 36,
   "metadata": {},
   "outputs": [],
   "source": [
    "overexpressed = {\"1\": pd.DataFrame([2], columns=[\"a\"]), \"3\": pd.DataFrame()}\n",
    "underexpressed = {\"1\": pd.DataFrame([5], columns=[\"b\"]), \"2\": pd.DataFrame()}"
   ]
  },
  {
   "cell_type": "code",
   "execution_count": 38,
   "metadata": {},
   "outputs": [
    {
     "data": {
      "text/plain": [
       "{'1': {'overexpressed':    a\n",
       "  0  2, 'underexpressed':    b\n",
       "  0  5}, '3': {'overexpressed': Empty DataFrame\n",
       "  Columns: []\n",
       "  Index: []}, '2': {'underexpressed': Empty DataFrame\n",
       "  Columns: []\n",
       "  Index: []}}"
      ]
     },
     "execution_count": 38,
     "metadata": {},
     "output_type": "execute_result"
    }
   ],
   "source": [
    "result = {}\n",
    "for key, value in overexpressed.items():\n",
    "    result[key] = {\"overexpressed\": value}\n",
    "for key, value in underexpressed.items():\n",
    "    if key in result:\n",
    "        result[key][\"underexpressed\"] = value\n",
    "    else:\n",
    "        result[key] = {\"underexpressed\": value}\n",
    "\n",
    "result"
   ]
  },
  {
   "cell_type": "code",
   "execution_count": 31,
   "metadata": {},
   "outputs": [
    {
     "data": {
      "text/plain": [
       "{'1':    b\n",
       " 0  5, '3': Empty DataFrame\n",
       " Columns: []\n",
       " Index: [], '2': Empty DataFrame\n",
       " Columns: []\n",
       " Index: []}"
      ]
     },
     "execution_count": 31,
     "metadata": {},
     "output_type": "execute_result"
    }
   ],
   "source": [
    "z"
   ]
  },
  {
   "cell_type": "code",
   "execution_count": 32,
   "metadata": {},
   "outputs": [
    {
     "data": {
      "text/html": [
       "<div>\n",
       "<style scoped>\n",
       "    .dataframe tbody tr th:only-of-type {\n",
       "        vertical-align: middle;\n",
       "    }\n",
       "\n",
       "    .dataframe tbody tr th {\n",
       "        vertical-align: top;\n",
       "    }\n",
       "\n",
       "    .dataframe thead th {\n",
       "        text-align: right;\n",
       "    }\n",
       "</style>\n",
       "<table border=\"1\" class=\"dataframe\">\n",
       "  <thead>\n",
       "    <tr style=\"text-align: right;\">\n",
       "      <th></th>\n",
       "      <th>b</th>\n",
       "    </tr>\n",
       "  </thead>\n",
       "  <tbody>\n",
       "    <tr>\n",
       "      <th>0</th>\n",
       "      <td>5</td>\n",
       "    </tr>\n",
       "  </tbody>\n",
       "</table>\n",
       "</div>"
      ],
      "text/plain": [
       "   b\n",
       "0  5"
      ]
     },
     "execution_count": 32,
     "metadata": {},
     "output_type": "execute_result"
    }
   ],
   "source": [
    "z[\"1\"]"
   ]
  },
  {
   "cell_type": "code",
   "execution_count": 34,
   "metadata": {},
   "outputs": [
    {
     "name": "stdout",
     "output_type": "stream",
     "text": [
      "dict_items([('boy', 1), ('girl', 2)])\n",
      "dict_items([('boy', 'tall'), ('girl', 'short')])\n"
     ]
    }
   ],
   "source": [
    "from collections import defaultdict\n",
    "d1= {'boy': 1,'girl':2}\n",
    "d2= {'boy': 'tall','girl':'short'}\n",
    "d3 = defaultdict(list)\n",
    "for d in (d1, d2):\n",
    "    print(d.items())\n",
    "    for key, value in d.items():\n",
    "        d3[key].append(value)"
   ]
  },
  {
   "cell_type": "code",
   "execution_count": 41,
   "metadata": {},
   "outputs": [
    {
     "data": {
      "text/html": [
       "<div>\n",
       "<style scoped>\n",
       "    .dataframe tbody tr th:only-of-type {\n",
       "        vertical-align: middle;\n",
       "    }\n",
       "\n",
       "    .dataframe tbody tr th {\n",
       "        vertical-align: top;\n",
       "    }\n",
       "\n",
       "    .dataframe thead th {\n",
       "        text-align: right;\n",
       "    }\n",
       "</style>\n",
       "<table border=\"1\" class=\"dataframe\">\n",
       "  <thead>\n",
       "    <tr style=\"text-align: right;\">\n",
       "      <th></th>\n",
       "      <th>category</th>\n",
       "      <th>index</th>\n",
       "      <th>log2_fold_change</th>\n",
       "      <th>id</th>\n",
       "      <th>original_index</th>\n",
       "    </tr>\n",
       "  </thead>\n",
       "  <tbody>\n",
       "    <tr>\n",
       "      <th>0</th>\n",
       "      <td>1</td>\n",
       "      <td>1</td>\n",
       "      <td>3.0</td>\n",
       "      <td>1</td>\n",
       "      <td>1</td>\n",
       "    </tr>\n",
       "  </tbody>\n",
       "</table>\n",
       "</div>"
      ],
      "text/plain": [
       "   category  index  log2_fold_change  id  original_index\n",
       "0         1      1               3.0   1               1"
      ]
     },
     "execution_count": 41,
     "metadata": {},
     "output_type": "execute_result"
    }
   ],
   "source": [
    "pd.DataFrame(\n",
    "                        [[1, 1, 3.0, 1, 1]],\n",
    "                        columns=[\n",
    "                            \"category\",\n",
    "                            \"index\",\n",
    "                            \"log2_fold_change\",\n",
    "                            \"id\",\n",
    "                            \"original_index\",\n",
    "                        ],\n",
    "                    )"
   ]
  },
  {
   "cell_type": "code",
   "execution_count": 79,
   "metadata": {},
   "outputs": [
    {
     "data": {
      "text/plain": [
       "[{'variant_type': 'clinvar',\n",
       "  'variant_id': 'RCV000120989.2',\n",
       "  'variant_review': 1,\n",
       "  'variant_significance': 'benign',\n",
       "  'variant_phenotype': '',\n",
       "  'variant_color': 'clinvar clinvar-green'},\n",
       " {'variant_type': 'clinvar',\n",
       "  'variant_id': 'RCV000372215.1',\n",
       "  'variant_review': 3,\n",
       "  'variant_significance': 'benign',\n",
       "  'variant_phenotype': ['Fanconi anemia'],\n",
       "  'variant_color': ''},\n",
       " {'variant_type': 'clinvar',\n",
       "  'variant_id': 'RCV000372215.1',\n",
       "  'variant_review': 2,\n",
       "  'variant_significance': 'likely benign',\n",
       "  'variant_phenotype': ['Fanconi anemia'],\n",
       "  'variant_color': ''},\n",
       " {'variant_type': 'clinvar',\n",
       "  'variant_id': 'RCV000372215.1',\n",
       "  'variant_review': 2,\n",
       "  'variant_significance': 'uncertain significance',\n",
       "  'variant_phenotype': ['Fanconi anemia'],\n",
       "  'variant_color': ''},\n",
       " {'variant_type': 'clinvar',\n",
       "  'variant_id': 'RCV000372215.1',\n",
       "  'variant_review': 2,\n",
       "  'variant_significance': 'benign',\n",
       "  'variant_phenotype': ['Fanconi anemia'],\n",
       "  'variant_color': ''},\n",
       " {'variant_type': 'clinvar',\n",
       "  'variant_id': 'RCV000372215.1',\n",
       "  'variant_review': 2,\n",
       "  'variant_significance': '-',\n",
       "  'variant_phenotype': ['Fanconi anemia'],\n",
       "  'variant_color': ''},\n",
       " {'variant_type': 'clinvar',\n",
       "  'variant_id': 'RCV000372215.1',\n",
       "  'variant_review': 2,\n",
       "  'variant_significance': 'pathogenic',\n",
       "  'variant_phenotype': ['Fanconi anemia'],\n",
       "  'variant_color': ''},\n",
       " {'variant_type': 'clinvar',\n",
       "  'variant_id': 'RCV000372215.1',\n",
       "  'variant_review': 2,\n",
       "  'variant_significance': 'likely pathogenic',\n",
       "  'variant_phenotype': ['Fanconi anemia'],\n",
       "  'variant_color': ''}]"
      ]
     },
     "execution_count": 79,
     "metadata": {},
     "output_type": "execute_result"
    }
   ],
   "source": [
    "d=[\n",
    "{'variant_type': 'clinvar', 'variant_id': 'RCV000120989.2', 'variant_review': 1, 'variant_significance': 'benign', 'variant_phenotype': '', 'variant_color': 'clinvar clinvar-green'}, \n",
    "{'variant_type': 'clinvar', 'variant_id': 'RCV000372215.1', 'variant_review': 3, 'variant_significance': 'benign', 'variant_phenotype': ['Fanconi anemia'], 'variant_color': ''},\n",
    "{'variant_type': 'clinvar', 'variant_id': 'RCV000372215.1', 'variant_review': 2, 'variant_significance': 'likely benign', 'variant_phenotype': ['Fanconi anemia'], 'variant_color': ''},\n",
    "{'variant_type': 'clinvar', 'variant_id': 'RCV000372215.1', 'variant_review': 2, 'variant_significance': 'uncertain significance', 'variant_phenotype': ['Fanconi anemia'], 'variant_color': ''},\n",
    "    {'variant_type': 'clinvar', 'variant_id': 'RCV000372215.1', 'variant_review': 2, 'variant_significance': 'benign', 'variant_phenotype': ['Fanconi anemia'], 'variant_color': ''},\n",
    "        {'variant_type': 'clinvar', 'variant_id': 'RCV000372215.1', 'variant_review': 2, 'variant_significance': '-', 'variant_phenotype': ['Fanconi anemia'], 'variant_color': ''},\n",
    "\n",
    "{'variant_type': 'clinvar', 'variant_id': 'RCV000372215.1', 'variant_review': 2, 'variant_significance': 'pathogenic', 'variant_phenotype': ['Fanconi anemia'], 'variant_color': ''},\n",
    "    {'variant_type': 'clinvar', 'variant_id': 'RCV000372215.1', 'variant_review': 2, 'variant_significance': 'likely pathogenic', 'variant_phenotype': ['Fanconi anemia'], 'variant_color': ''}\n",
    "\n",
    "\n",
    "  ]\n",
    "d"
   ]
  },
  {
   "cell_type": "code",
   "execution_count": 80,
   "metadata": {},
   "outputs": [],
   "source": [
    "index_map = {'pathogenic':4,\n",
    "'likely pathogenic':3,\n",
    "'uncertain significance':2,\n",
    "'likely benign':1,\n",
    "'benign':0,\n",
    "             '-':0,\n",
    "\n",
    "}\n",
    "\n",
    "import operator\n",
    "\n",
    "d = sorted(d, key=lambda k: (k['variant_review'], clinvar_significance_index_map[k[\"variant_significance\"]]), reverse=True)"
   ]
  },
  {
   "cell_type": "code",
   "execution_count": 81,
   "metadata": {},
   "outputs": [
    {
     "data": {
      "text/plain": [
       "[{'variant_type': 'clinvar',\n",
       "  'variant_id': 'RCV000372215.1',\n",
       "  'variant_review': 3,\n",
       "  'variant_significance': 'benign',\n",
       "  'variant_phenotype': ['Fanconi anemia'],\n",
       "  'variant_color': ''},\n",
       " {'variant_type': 'clinvar',\n",
       "  'variant_id': 'RCV000372215.1',\n",
       "  'variant_review': 2,\n",
       "  'variant_significance': 'pathogenic',\n",
       "  'variant_phenotype': ['Fanconi anemia'],\n",
       "  'variant_color': ''},\n",
       " {'variant_type': 'clinvar',\n",
       "  'variant_id': 'RCV000372215.1',\n",
       "  'variant_review': 2,\n",
       "  'variant_significance': 'likely pathogenic',\n",
       "  'variant_phenotype': ['Fanconi anemia'],\n",
       "  'variant_color': ''},\n",
       " {'variant_type': 'clinvar',\n",
       "  'variant_id': 'RCV000372215.1',\n",
       "  'variant_review': 2,\n",
       "  'variant_significance': 'uncertain significance',\n",
       "  'variant_phenotype': ['Fanconi anemia'],\n",
       "  'variant_color': ''},\n",
       " {'variant_type': 'clinvar',\n",
       "  'variant_id': 'RCV000372215.1',\n",
       "  'variant_review': 2,\n",
       "  'variant_significance': 'likely benign',\n",
       "  'variant_phenotype': ['Fanconi anemia'],\n",
       "  'variant_color': ''},\n",
       " {'variant_type': 'clinvar',\n",
       "  'variant_id': 'RCV000372215.1',\n",
       "  'variant_review': 2,\n",
       "  'variant_significance': 'benign',\n",
       "  'variant_phenotype': ['Fanconi anemia'],\n",
       "  'variant_color': ''},\n",
       " {'variant_type': 'clinvar',\n",
       "  'variant_id': 'RCV000372215.1',\n",
       "  'variant_review': 2,\n",
       "  'variant_significance': '-',\n",
       "  'variant_phenotype': ['Fanconi anemia'],\n",
       "  'variant_color': ''},\n",
       " {'variant_type': 'clinvar',\n",
       "  'variant_id': 'RCV000120989.2',\n",
       "  'variant_review': 1,\n",
       "  'variant_significance': 'benign',\n",
       "  'variant_phenotype': '',\n",
       "  'variant_color': 'clinvar clinvar-green'}]"
      ]
     },
     "execution_count": 81,
     "metadata": {},
     "output_type": "execute_result"
    }
   ],
   "source": [
    "d\n"
   ]
  },
  {
   "cell_type": "code",
   "execution_count": null,
   "metadata": {},
   "outputs": [],
   "source": []
  }
 ],
 "metadata": {
  "kernelspec": {
   "display_name": "Python 3",
   "language": "python",
   "name": "python3"
  },
  "language_info": {
   "codemirror_mode": {
    "name": "ipython",
    "version": 3
   },
   "file_extension": ".py",
   "mimetype": "text/x-python",
   "name": "python",
   "nbconvert_exporter": "python",
   "pygments_lexer": "ipython3",
   "version": "3.6.7"
  }
 },
 "nbformat": 4,
 "nbformat_minor": 2
}
